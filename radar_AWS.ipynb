{
 "cells": [
  {
   "cell_type": "markdown",
   "id": "9dc63b4a-ebb9-41be-bf43-ff4549f37cbd",
   "metadata": {},
   "source": [
    "# Viewing NEXRAD Level II Data\n",
    "---"
   ]
  },
  {
   "cell_type": "markdown",
   "id": "79d482d1-ae86-44bc-ae65-7abbc8afe278",
   "metadata": {},
   "source": [
    "## Overview\n",
    "   \n",
    "Within this notebook, we will cover:\n",
    "\n",
    "1. How to access NEXRAD data from AWS\n",
    "1. How to read this data into Py-ART\n",
    "1. How to customize your plots and maps\n",
    "\n",
    "## Prerequisites\n",
    "| Concepts | Importance | Notes |\n",
    "| --- | --- | --- |\n",
    "| [Intro to Cartopy](https://foundations.projectpythia.org/core/cartopy/cartopy.html) | Required | Projections and Features |\n",
    "| [Matplotlib Basics](https://foundations.projectpythia.org/core/matplotlib/matplotlib-basics.html) | Required | Basic plotting |\n",
    "| [Py-ART Basics](../foundations/pyart-basics) | Required | IO/Visualization |\n",
    "\n",
    "- **Time to learn**: 45 minutes\n",
    "---"
   ]
  },
  {
   "cell_type": "markdown",
   "id": "44203db4-00ab-4fad-8b61-ead013282b80",
   "metadata": {
    "tags": []
   },
   "source": [
    "## Imports"
   ]
  },
  {
   "cell_type": "code",
   "execution_count": 14,
   "id": "77872ced-4f00-4520-8e4e-651c7aa2961b",
   "metadata": {
    "tags": []
   },
   "outputs": [],
   "source": [
    "import pyart\n",
    "import fsspec\n",
    "from metpy.plots import USCOUNTIES\n",
    "import matplotlib.pyplot as plt\n",
    "import cartopy.crs as ccrs\n",
    "import cartopy.feature as cfeature\n",
    "import warnings\n",
    "from datetime import datetime as dt\n",
    "warnings.filterwarnings(\"ignore\")"
   ]
  },
  {
   "cell_type": "markdown",
   "id": "87af5f44-55e6-4d23-9523-6e49e2563f88",
   "metadata": {},
   "source": [
    "## How to Access NEXRAD Data from Amazon Web Services (AWS)\n",
    "\n",
    "Let’s start first with NEXRAD Level 2 data, which is ground-based radar data collected by the National Oceanic and Atmospheric Administration (NOAA), as a part of the National Weather Service (NWS) observing network."
   ]
  },
  {
   "cell_type": "markdown",
   "id": "cd7a8f06-9580-4320-8e81-f13229f3a67b",
   "metadata": {
    "tags": []
   },
   "source": [
    "### Level 2 Data\n",
    "Level 2 data includes all of the fields in a single file - for example, a file may include:\n",
    "- Reflectivity\n",
    "- Velocity"
   ]
  },
  {
   "cell_type": "markdown",
   "id": "e53147e6-a08a-444b-a7df-9b2a958c4c3b",
   "metadata": {},
   "source": [
    "### Search for Radar Data\n",
    "\n",
    "We will access data from the [noaa-nexrad-level2 bucket](https://noaa-nexrad-level2.s3.amazonaws.com/index.html), with the data organized as:\n",
    "\n",
    "```\n",
    "s3://noaa-nexrad-level2/year/month/date/radarsite/{radarsite}{year}{month}{date}_{hour}{minute}{second}_V06\n",
    "```\n",
    "\n",
    "We can use [fsspec](https://filesystem-spec.readthedocs.io/en/latest/), a tool to work with filesystems in Python, to search through the bucket to find our files!\n",
    "\n",
    "We start first by setting up our [AWS S3 filesystem](https://aws.amazon.com/s3/)"
   ]
  },
  {
   "cell_type": "code",
   "execution_count": 15,
   "id": "79521c33-842a-4eb5-b9f7-e57cf420ea96",
   "metadata": {
    "tags": []
   },
   "outputs": [],
   "source": [
    "fs = fsspec.filesystem(\"s3\", anon=True)"
   ]
  },
  {
   "cell_type": "markdown",
   "id": "11ee73ad-32f0-49db-b896-adccceb8cfea",
   "metadata": {},
   "source": [
    "Once we set up our filesystem, we can list files from the site and date/time of our choice."
   ]
  },
  {
   "cell_type": "markdown",
   "id": "55ffccdc-eea6-4625-8b10-27e012c052be",
   "metadata": {
    "tags": []
   },
   "source": [
    "Select the date"
   ]
  },
  {
   "cell_type": "code",
   "execution_count": 16,
   "id": "e5ba9324-457e-4946-b309-999ef6b9ef9d",
   "metadata": {
    "tags": []
   },
   "outputs": [],
   "source": [
    "datTime = dt(2013,5,20,20)\n",
    "year = dt.strftime(datTime,format=\"%Y\")\n",
    "month = dt.strftime(datTime,format=\"%m\")\n",
    "day = dt.strftime(datTime,format=\"%d\")\n",
    "hour = dt.strftime(datTime,format=\"%H\")"
   ]
  },
  {
   "cell_type": "markdown",
   "id": "29318b40-40d5-4c59-b375-84375b3a55dc",
   "metadata": {},
   "source": [
    "Specify the radar site"
   ]
  },
  {
   "cell_type": "code",
   "execution_count": 17,
   "id": "273a0e13-f12c-4dcd-98d7-e1d3de77ca29",
   "metadata": {
    "tags": []
   },
   "outputs": [],
   "source": [
    "site = 'KTLX'"
   ]
  },
  {
   "cell_type": "markdown",
   "id": "1be0ff93-644a-444a-9424-c512ade9dc8d",
   "metadata": {},
   "source": [
    "Specify latitude and longitude bounds for the resulting maps."
   ]
  },
  {
   "cell_type": "code",
   "execution_count": 18,
   "id": "10c457c5-de71-4cf5-b181-51ef2585f395",
   "metadata": {
    "tags": []
   },
   "outputs": [],
   "source": [
    "lonW = -99\n",
    "lonE = -96\n",
    "latS = 33\n",
    "latN = 36"
   ]
  },
  {
   "cell_type": "markdown",
   "id": "9fa4912e-9a5b-4972-ad14-6bd0025ca494",
   "metadata": {},
   "source": [
    "Construct the URL pointing to the radar file directory"
   ]
  },
  {
   "cell_type": "code",
   "execution_count": 19,
   "id": "df214a1d-5830-48a6-958b-421a92925cef",
   "metadata": {
    "tags": []
   },
   "outputs": [],
   "source": [
    "url = f's3://noaa-nexrad-level2/{year}/{month}/{day}/{site}/{site}{year}{month}{day}_{hour}*V06'"
   ]
  },
  {
   "cell_type": "code",
   "execution_count": 20,
   "id": "363376c2-0898-417b-a233-6d00ce53646b",
   "metadata": {
    "tags": []
   },
   "outputs": [
    {
     "data": {
      "text/plain": [
       "'s3://noaa-nexrad-level2/2013/05/20/KTLX/KTLX20130520_20*V06'"
      ]
     },
     "execution_count": 20,
     "metadata": {},
     "output_type": "execute_result"
    }
   ],
   "source": [
    "url"
   ]
  },
  {
   "cell_type": "code",
   "execution_count": 21,
   "id": "25aa5b04-818f-4d45-b175-d8e460ae8e0d",
   "metadata": {
    "tags": []
   },
   "outputs": [
    {
     "data": {
      "text/plain": [
       "[]"
      ]
     },
     "execution_count": 21,
     "metadata": {},
     "output_type": "execute_result"
    }
   ],
   "source": [
    "files = sorted(fs.glob(url))\n",
    "files"
   ]
  },
  {
   "cell_type": "markdown",
   "id": "180a2ed5-7716-4723-92c4-67bf573155d2",
   "metadata": {},
   "source": [
    "We now have a list of files we can read in! "
   ]
  },
  {
   "cell_type": "markdown",
   "id": "e12be782-9ca5-4d23-bc24-8b5fdeb37ef6",
   "metadata": {},
   "source": [
    "## Read the Data into PyART\n",
    "\n",
    "When reading into PyART, we can use the `pyart.io.read_nexrad_archive` or `pyart.io.read` module to read in our data."
   ]
  },
  {
   "cell_type": "markdown",
   "id": "61110827-5eec-43bd-a2cd-0ab786aa712f",
   "metadata": {},
   "source": [
    "Read in the first radar file in the group."
   ]
  },
  {
   "cell_type": "code",
   "execution_count": 22,
   "id": "7a8b7606-da44-486d-859c-007527f72b5a",
   "metadata": {
    "tags": []
   },
   "outputs": [
    {
     "ename": "IndexError",
     "evalue": "list index out of range",
     "output_type": "error",
     "traceback": [
      "\u001b[0;31m---------------------------------------------------------------------------\u001b[0m",
      "\u001b[0;31mIndexError\u001b[0m                                Traceback (most recent call last)",
      "Input \u001b[0;32mIn [22]\u001b[0m, in \u001b[0;36m<cell line: 1>\u001b[0;34m()\u001b[0m\n\u001b[0;32m----> 1\u001b[0m radar \u001b[38;5;241m=\u001b[39m pyart\u001b[38;5;241m.\u001b[39mio\u001b[38;5;241m.\u001b[39mread_nexrad_archive(\u001b[38;5;124mf\u001b[39m\u001b[38;5;124m'\u001b[39m\u001b[38;5;124ms3://\u001b[39m\u001b[38;5;132;01m{\u001b[39;00mfiles[\u001b[38;5;241m0\u001b[39m]\u001b[38;5;132;01m}\u001b[39;00m\u001b[38;5;124m'\u001b[39m)\n",
      "\u001b[0;31mIndexError\u001b[0m: list index out of range"
     ]
    }
   ],
   "source": [
    "radar = pyart.io.read_nexrad_archive(f's3://{files[0]}')"
   ]
  },
  {
   "cell_type": "markdown",
   "id": "676cdf8a-e98c-4a80-9809-5ff384e65f3b",
   "metadata": {},
   "source": [
    "Notice how for the **NEXRAD Level 2** data, we have several fields available"
   ]
  },
  {
   "cell_type": "code",
   "execution_count": null,
   "id": "74207d9d-16c8-4c6e-a41a-3e7b23a86811",
   "metadata": {
    "tags": []
   },
   "outputs": [],
   "source": [
    "list(radar.fields)"
   ]
  },
  {
   "cell_type": "markdown",
   "id": "17a9af05-e326-4f42-97d9-046a10dba6a7",
   "metadata": {},
   "source": [
    "### Plot a quick-look of the dataset\n",
    "Let's get a quick look of the reflectivity and velocity fields"
   ]
  },
  {
   "cell_type": "code",
   "execution_count": null,
   "id": "7f29a4c8-b5b1-4165-aa1c-12f333e8715f",
   "metadata": {
    "tags": []
   },
   "outputs": [],
   "source": [
    "display = pyart.graph.RadarMapDisplay(radar)"
   ]
  },
  {
   "cell_type": "markdown",
   "id": "b890952e-66be-4bee-9bf8-48ebee6f8b51",
   "metadata": {},
   "source": [
    "What options does plot_ppi_map give us?"
   ]
  },
  {
   "cell_type": "code",
   "execution_count": 10,
   "id": "20d138c5-9fd4-423f-9eec-925930b6c5cb",
   "metadata": {
    "tags": []
   },
   "outputs": [
    {
     "name": "stdout",
     "output_type": "stream",
     "text": [
      "Object `display.plot_ppi_map` not found.\n"
     ]
    }
   ],
   "source": [
    "display.plot_ppi_map?"
   ]
  },
  {
   "cell_type": "markdown",
   "id": "5e5ce238-9be3-4589-b75a-9f9211d33142",
   "metadata": {},
   "source": [
    "The default resolution for the cartographic features is the coarsest (110m). Let's crank it up to the finest resolution ('10m')."
   ]
  },
  {
   "cell_type": "code",
   "execution_count": 11,
   "id": "67813062-d82b-4b36-8ecb-4008805d4308",
   "metadata": {
    "tags": []
   },
   "outputs": [],
   "source": [
    "res = '10m'"
   ]
  },
  {
   "cell_type": "code",
   "execution_count": 12,
   "id": "2025747d-d724-4a44-981a-0e1210345ff2",
   "metadata": {
    "tags": []
   },
   "outputs": [
    {
     "ename": "AttributeError",
     "evalue": "'function' object has no attribute 'plot_ppi_map'",
     "output_type": "error",
     "traceback": [
      "\u001b[0;31m---------------------------------------------------------------------------\u001b[0m",
      "\u001b[0;31mAttributeError\u001b[0m                            Traceback (most recent call last)",
      "Input \u001b[0;32mIn [12]\u001b[0m, in \u001b[0;36m<cell line: 1>\u001b[0;34m()\u001b[0m\n\u001b[0;32m----> 1\u001b[0m \u001b[43mdisplay\u001b[49m\u001b[38;5;241;43m.\u001b[39;49m\u001b[43mplot_ppi_map\u001b[49m(\u001b[38;5;124m'\u001b[39m\u001b[38;5;124mreflectivity\u001b[39m\u001b[38;5;124m'\u001b[39m,\n\u001b[1;32m      2\u001b[0m                      sweep\u001b[38;5;241m=\u001b[39m\u001b[38;5;241m3\u001b[39m,\n\u001b[1;32m      3\u001b[0m                      vmin\u001b[38;5;241m=\u001b[39m\u001b[38;5;241m-\u001b[39m\u001b[38;5;241m20\u001b[39m,\n\u001b[1;32m      4\u001b[0m                      vmax\u001b[38;5;241m=\u001b[39m\u001b[38;5;241m80\u001b[39m,\n\u001b[1;32m      5\u001b[0m                      projection\u001b[38;5;241m=\u001b[39mccrs\u001b[38;5;241m.\u001b[39mPlateCarree(),\n\u001b[1;32m      6\u001b[0m                      resolution\u001b[38;5;241m=\u001b[39mres\n\u001b[1;32m      7\u001b[0m                     )\n",
      "\u001b[0;31mAttributeError\u001b[0m: 'function' object has no attribute 'plot_ppi_map'"
     ]
    }
   ],
   "source": [
    "display.plot_ppi_map('reflectivity',\n",
    "                     sweep=3,\n",
    "                     vmin=-20,\n",
    "                     vmax=80,\n",
    "                     projection=ccrs.PlateCarree(),\n",
    "                     resolution=res\n",
    "                    )"
   ]
  },
  {
   "cell_type": "code",
   "execution_count": 13,
   "id": "b3f7f8a9-f464-43cb-9b59-02f5e5013afa",
   "metadata": {
    "tags": []
   },
   "outputs": [
    {
     "ename": "AttributeError",
     "evalue": "'function' object has no attribute 'plot_ppi_map'",
     "output_type": "error",
     "traceback": [
      "\u001b[0;31m---------------------------------------------------------------------------\u001b[0m",
      "\u001b[0;31mAttributeError\u001b[0m                            Traceback (most recent call last)",
      "Input \u001b[0;32mIn [13]\u001b[0m, in \u001b[0;36m<cell line: 1>\u001b[0;34m()\u001b[0m\n\u001b[0;32m----> 1\u001b[0m \u001b[43mdisplay\u001b[49m\u001b[38;5;241;43m.\u001b[39;49m\u001b[43mplot_ppi_map\u001b[49m(\u001b[38;5;124m'\u001b[39m\u001b[38;5;124mvelocity\u001b[39m\u001b[38;5;124m'\u001b[39m,\n\u001b[1;32m      2\u001b[0m                      sweep\u001b[38;5;241m=\u001b[39m\u001b[38;5;241m3\u001b[39m,\n\u001b[1;32m      3\u001b[0m                      projection\u001b[38;5;241m=\u001b[39mccrs\u001b[38;5;241m.\u001b[39mPlateCarree(),\n\u001b[1;32m      4\u001b[0m                      resolution\u001b[38;5;241m=\u001b[39mres\n\u001b[1;32m      5\u001b[0m                     )\n",
      "\u001b[0;31mAttributeError\u001b[0m: 'function' object has no attribute 'plot_ppi_map'"
     ]
    }
   ],
   "source": [
    "display.plot_ppi_map('velocity',\n",
    "                     sweep=3,\n",
    "                     projection=ccrs.PlateCarree(),\n",
    "                     resolution=res\n",
    "                    )"
   ]
  },
  {
   "cell_type": "markdown",
   "id": "b23c4012-7433-493a-8fe2-c5419f6c82d2",
   "metadata": {},
   "source": [
    "## Create a single figure of reflectivity, zoomed into the main storm. Add counties and other enhancements."
   ]
  },
  {
   "cell_type": "code",
   "execution_count": 73,
   "id": "da2165b9-30e3-4d72-957d-15559a6d3df6",
   "metadata": {
    "tags": []
   },
   "outputs": [],
   "source": [
    "lonW = -99\n",
    "lonE = -96\n",
    "latS = 33\n",
    "latN = 36"
   ]
  },
  {
   "cell_type": "code",
   "execution_count": 74,
   "id": "5537544d-8984-426c-9ed2-c13dd75ec623",
   "metadata": {
    "tags": []
   },
   "outputs": [
    {
     "data": {
      "image/png": "[encoded data removed]",
      "text/plain": [
       "<Figure size 1500x600 with 2 Axes>"
      ]
     },
     "metadata": {},
     "output_type": "display_data"
    }
   ],
   "source": [
    "# Create our figure\n",
    "fig = plt.figure(figsize=[15, 6])\n",
    "\n",
    "# Setup our first axis with reflectivity\n",
    "ax1 = plt.subplot(111, projection=ccrs.PlateCarree())\n",
    "display = pyart.graph.RadarMapDisplay(radar)\n",
    "ref_map = display.plot_ppi_map('reflectivity',sweep=3, vmin=-20, vmax=80, ax=ax1, colorbar_label='Equivalent Relectivity ($Z_{e}$) (dBZ)', resolution=res)\n",
    "\n",
    "ax1.set_extent ([lonW, lonE, latS, latN])\n",
    "\n",
    "# Add gridlines\n",
    "gl = ax1.gridlines(crs=ccrs.PlateCarree(), draw_labels=True, linewidth=1, color='gray', alpha=0.3, linestyle='--')\n",
    "\n",
    "# Make sure labels are only plotted on the left and bottom\n",
    "gl.xlabels_top = False\n",
    "gl.ylabels_right = False\n",
    "\n",
    "# Specify the fontsize of our gridline labels\n",
    "gl.xlabel_style = {'fontsize':8}\n",
    "gl.ylabel_style = {'fontsize':8}\n",
    "\n",
    "# Add counties\n",
    "ax1.add_feature(USCOUNTIES, linewidth=0.5);\n"
   ]
  },
  {
   "cell_type": "markdown",
   "id": "c7bb5fb4-beea-45b9-a4b0-7b7d9181baab",
   "metadata": {},
   "source": [
    "Next, let's create a function that does the same as the previous cell, so we can loop over all the radar files of the specified hour."
   ]
  },
  {
   "cell_type": "code",
   "execution_count": 75,
   "id": "a5320102-4570-4416-bf09-d26eff3e479d",
   "metadata": {
    "tags": []
   },
   "outputs": [],
   "source": [
    "def plot_radar_refl (idx, site):\n",
    "    radar = pyart.io.read_nexrad_archive(f's3://{files[idx]}')    \n",
    "    # Create our figure\n",
    "    fig = plt.figure(figsize=[15, 6])\n",
    "\n",
    "    # Set up our axes\n",
    "    ax1 = plt.subplot(111, projection=ccrs.PlateCarree())\n",
    "    display = pyart.graph.RadarMapDisplay(radar)\n",
    "    ref_map = display.plot_ppi_map('reflectivity',sweep=3, vmin=-20, vmax=80, ax=ax1, colorbar_label='Equivalent Relectivity ($Z_{e}$) (dBZ)', resolution=res)\n",
    "\n",
    "    ax1.set_extent ([lonW, lonE, latS, latN])\n",
    "\n",
    "# Add gridlines\n",
    "    gl = ax1.gridlines(crs=ccrs.PlateCarree(), draw_labels=True, linewidth=1, color='gray', alpha=0.3, linestyle='--')\n",
    "\n",
    "# Make sure labels are only plotted on the left and bottom\n",
    "    gl.xlabels_top = False\n",
    "    gl.ylabels_right = False\n",
    "\n",
    "# Specify the fontsize of our gridline labels\n",
    "    gl.xlabel_style = {'fontsize':8}\n",
    "    gl.ylabel_style = {'fontsize':8}\n",
    "\n",
    "# Add counties\n",
    "    ax1.add_feature(USCOUNTIES, linewidth=0.5)\n",
    "\n",
    "# Save the figure.\n",
    "    fNum = str(idx).zfill(2)\n",
    "    figTitle = f'{site}_refl_{fNum}.png'\n",
    "    fig.savefig(figTitle)"
   ]
  },
  {
   "cell_type": "markdown",
   "id": "fee4c8fd-e0d4-4dc9-a6ce-35bf2ea89fa9",
   "metadata": {},
   "source": [
    "Loop over the files. Save each image."
   ]
  },
  {
   "cell_type": "code",
   "execution_count": 76,
   "id": "42c41df3-9417-4427-8355-474ffb98de73",
   "metadata": {
    "tags": []
   },
   "outputs": [],
   "source": [
    "for n, name in enumerate(files):\n",
    "    print (n, name, site)\n",
    "    plot_radar_refl(n, site)    "
   ]
  },
  {
   "cell_type": "markdown",
   "id": "c268e3ac-6532-4d2f-b620-c79d08364cdb",
   "metadata": {},
   "source": [
    "---\n",
    "## Summary\n",
    "Within this example, we walked through how to use PyART to read in and plot NEXRAD Level 2 data for a location and hour of your choice.\n",
    "\n",
    "### Things to try\n",
    "The above example is for reflectivity. Try additional radar products, such as velocity; also try different sweeps.\n",
    "\n",
    "### What's next?\n",
    "We will develop code to animate the sequence."
   ]
  },
  {
   "cell_type": "code",
   "execution_count": null,
   "id": "2fc64226-da62-4717-af96-ed72aff9075c",
   "metadata": {},
   "outputs": [],
   "source": []
  },
  {
   "cell_type": "code",
   "execution_count": null,
   "id": "3f223290-203a-4763-aade-3a51cb790015",
   "metadata": {},
   "outputs": [],
   "source": []
  },
  {
   "cell_type": "code",
   "execution_count": null,
   "id": "92acd5d5-a12f-4705-b7f9-355a0f2f160c",
   "metadata": {},
   "outputs": [],
   "source": []
  }
 ],
 "metadata": {
  "kernelspec": {
   "display_name": "Python 3 August 2022 Environment",
   "language": "python",
   "name": "aug22"
  },
  "language_info": {
   "codemirror_mode": {
    "name": "ipython",
    "version": 3
   },
   "file_extension": ".py",
   "mimetype": "text/x-python",
   "name": "python",
   "nbconvert_exporter": "python",
   "pygments_lexer": "ipython3",
   "version": "3.10.5"
  }
 },
 "nbformat": 4,
 "nbformat_minor": 5
}
