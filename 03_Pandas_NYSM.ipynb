{
 "cells": [
  {
   "cell_type": "markdown",
   "metadata": {},
   "source": [
    "<div class=\"row\">\n",
    "    <img src=\"https://matplotlib.org/_static/logo2.png\" alt=\"Matplotlib Logo\" style=\"width: 25%\">    \n",
    "    <img src=\"https://www.atmos.albany.edu/products/nysm/NYSMLogo.png\" alt=\"NYSM Logo\" style=\"width: 30%\">\n",
    "    <img src=\"https://github.com/pandas-dev/pandas/raw/main/web/pandas/static/img/pandas.svg\" alt=\"pandas Logo\" style=\"width: 25%\">\n",
    "</div>"
   ]
  },
  {
   "cell_type": "markdown",
   "metadata": {},
   "source": [
    "# Pandas 3: Plotting NYS Mesonet Observations\n",
    "---"
   ]
  },
  {
   "cell_type": "markdown",
   "metadata": {
    "tags": []
   },
   "source": [
    "## Overview\n",
    "In this notebook, we'll use Pandas to read in and analyze current data from the [New York State Mesonet](https://www2.nysmesonet.org). We will also use Matplotlib to plot the locations of NYSM sites."
   ]
  },
  {
   "cell_type": "markdown",
   "metadata": {},
   "source": [
    "## Prerequisites\n",
    "\n",
    "| Concepts | Importance | Notes |\n",
    "| --- | --- | --- |\n",
    "| Matplotlib | Necessary | |\n",
    "| Pandas  | Necessary |  |\n",
    "\n",
    "* **Time to learn**: 15 minutes"
   ]
  },
  {
   "cell_type": "markdown",
   "metadata": {},
   "source": [
    "___\n",
    "## Imports"
   ]
  },
  {
   "cell_type": "code",
   "execution_count": 1,
   "metadata": {},
   "outputs": [],
   "source": [
    "import matplotlib.pyplot as plt\n",
    "import numpy as np\n",
    "import pandas as pd"
   ]
  },
  {
   "cell_type": "markdown",
   "metadata": {},
   "source": [
    "Create a Pandas `DataFrame` object pointing to the latest set of obs."
   ]
  },
  {
   "cell_type": "code",
   "execution_count": 2,
   "metadata": {},
   "outputs": [],
   "source": [
    "nysm_data = pd.read_csv('https://www.atmos.albany.edu/products/nysm/nysm_latest.csv')"
   ]
  },
  {
   "cell_type": "markdown",
   "metadata": {},
   "source": [
    "Create `Series` objects for several columns from the `DataFrame`."
   ]
  },
  {
   "cell_type": "markdown",
   "metadata": {},
   "source": [
    "First, remind ourselves of the column names."
   ]
  },
  {
   "cell_type": "code",
   "execution_count": 3,
   "metadata": {},
   "outputs": [
    {
     "data": {
      "text/plain": [
       "Index(['station', 'time', 'temp_2m [degC]', 'temp_9m [degC]',\n",
       "       'relative_humidity [percent]', 'precip_incremental [mm]',\n",
       "       'precip_local [mm]', 'precip_max_intensity [mm/min]',\n",
       "       'avg_wind_speed_prop [m/s]', 'max_wind_speed_prop [m/s]',\n",
       "       'wind_speed_stddev_prop [m/s]', 'wind_direction_prop [degrees]',\n",
       "       'wind_direction_stddev_prop [degrees]', 'avg_wind_speed_sonic [m/s]',\n",
       "       'max_wind_speed_sonic [m/s]', 'wind_speed_stddev_sonic [m/s]',\n",
       "       'wind_direction_sonic [degrees]',\n",
       "       'wind_direction_stddev_sonic [degrees]', 'solar_insolation [W/m^2]',\n",
       "       'station_pressure [mbar]', 'snow_depth [cm]', 'frozen_soil_05cm [bit]',\n",
       "       'frozen_soil_25cm [bit]', 'frozen_soil_50cm [bit]',\n",
       "       'soil_temp_05cm [degC]', 'soil_temp_25cm [degC]',\n",
       "       'soil_temp_50cm [degC]', 'soil_moisture_05cm [m^3/m^3]',\n",
       "       'soil_moisture_25cm [m^3/m^3]', 'soil_moisture_50cm [m^3/m^3]', 'lat',\n",
       "       'lon', 'elevation', 'name'],\n",
       "      dtype='object')"
      ]
     },
     "execution_count": 3,
     "metadata": {},
     "output_type": "execute_result"
    }
   ],
   "source": [
    "nysm_data.columns"
   ]
  },
  {
   "cell_type": "markdown",
   "metadata": {},
   "source": [
    "Create several `Series` objects for particular columns of interest. "
   ]
  },
  {
   "cell_type": "code",
   "execution_count": 4,
   "metadata": {},
   "outputs": [],
   "source": [
    "stid = nysm_data['station']\n",
    "lats = nysm_data['lat']\n",
    "lons = nysm_data['lon']\n",
    "time = nysm_data['time']\n",
    "tmpc = nysm_data['temp_2m [degC]']\n",
    "tmpc9 = nysm_data['temp_9m [degC]']\n",
    "rh   = nysm_data['relative_humidity [percent]']\n",
    "pres = nysm_data['station_pressure [mbar]']\n",
    "wspd = nysm_data['max_wind_speed_prop [m/s]']\n",
    "drct = nysm_data['wind_direction_prop [degrees]']\n",
    "pinc = nysm_data['precip_incremental [mm]']\n",
    "ptot = nysm_data['precip_local [mm]']\n",
    "pint = nysm_data['precip_max_intensity [mm/min]']"
   ]
  },
  {
   "cell_type": "markdown",
   "metadata": {},
   "source": [
    "Examine one or more of these `Series`."
   ]
  },
  {
   "cell_type": "code",
   "execution_count": 5,
   "metadata": {},
   "outputs": [
    {
     "data": {
      "text/plain": [
       "0       7.2\n",
       "1       2.6\n",
       "2       1.6\n",
       "3      11.3\n",
       "4       2.6\n",
       "       ... \n",
       "121    -1.6\n",
       "122    -0.9\n",
       "123     3.8\n",
       "124     2.4\n",
       "125     3.0\n",
       "Name: temp_2m [degC], Length: 126, dtype: float64"
      ]
     },
     "execution_count": 5,
     "metadata": {},
     "output_type": "execute_result"
    }
   ],
   "source": [
    "tmpc"
   ]
  },
  {
   "cell_type": "markdown",
   "metadata": {},
   "source": [
    "<div class=\"alert alert-warning\">\n",
    "    <b>Exercise:</b> Read in at least one additional <code>Series</code> object.</div>"
   ]
  },
  {
   "cell_type": "code",
   "execution_count": 7,
   "metadata": {},
   "outputs": [
    {
     "data": {
      "text/plain": [
       "0      947.46\n",
       "1      944.35\n",
       "2      976.95\n",
       "3      992.89\n",
       "4      951.13\n",
       "        ...  \n",
       "121    930.32\n",
       "122    953.40\n",
       "123    998.79\n",
       "124    994.51\n",
       "125    988.88\n",
       "Name: station_pressure [mbar], Length: 126, dtype: float64"
      ]
     },
     "execution_count": 7,
     "metadata": {},
     "output_type": "execute_result"
    }
   ],
   "source": [
    "pres"
   ]
  },
  {
   "cell_type": "markdown",
   "metadata": {},
   "source": [
    "<div class=\"alert alert-info\">\n",
    "    <b>Tip:</b> Each of these <code>Series</code> objects contain data stored as <b>NumPy</b> arrays. As a result, we can take advantage of <i>vectorizing</i>, which perform operations on all array elements without needing to construct a Python <code>for</code> loop. </div>"
   ]
  },
  {
   "cell_type": "markdown",
   "metadata": {},
   "source": [
    "Convert the temperature and wind speed arrays to Fahrenheit and knots, respectively."
   ]
  },
  {
   "cell_type": "code",
   "execution_count": 8,
   "metadata": {},
   "outputs": [],
   "source": [
    "tmpf = tmpc * 1.8 + 32\n",
    "wspk = wspd * 1.94384"
   ]
  },
  {
   "cell_type": "markdown",
   "metadata": {},
   "source": [
    "Examine the new `Series`. Note that every element of the array has been calculated using the arithemtic above ... in just one line of code per `Series`!"
   ]
  },
  {
   "cell_type": "code",
   "execution_count": 9,
   "metadata": {},
   "outputs": [
    {
     "data": {
      "text/plain": [
       "0      44.96\n",
       "1      36.68\n",
       "2      34.88\n",
       "3      52.34\n",
       "4      36.68\n",
       "       ...  \n",
       "121    29.12\n",
       "122    30.38\n",
       "123    38.84\n",
       "124    36.32\n",
       "125    37.40\n",
       "Name: temp_2m [degC], Length: 126, dtype: float64"
      ]
     },
     "execution_count": 9,
     "metadata": {},
     "output_type": "execute_result"
    }
   ],
   "source": [
    "tmpf"
   ]
  },
  {
   "cell_type": "markdown",
   "metadata": {},
   "source": [
    "<div class=\"alert alert-info\">\n",
    "    <b>Note:</b> The <i>metadata</i> did not change to reflect the change in units! That is something we'd have to change manually, via the <code>Series</code>' <i>name</i> attribute.</div>"
   ]
  },
  {
   "cell_type": "code",
   "execution_count": 10,
   "metadata": {},
   "outputs": [],
   "source": [
    "tmpf.name = 'temp_2m [degF]'"
   ]
  },
  {
   "cell_type": "code",
   "execution_count": 11,
   "metadata": {},
   "outputs": [
    {
     "data": {
      "text/plain": [
       "0      44.96\n",
       "1      36.68\n",
       "2      34.88\n",
       "3      52.34\n",
       "4      36.68\n",
       "       ...  \n",
       "121    29.12\n",
       "122    30.38\n",
       "123    38.84\n",
       "124    36.32\n",
       "125    37.40\n",
       "Name: temp_2m [degF], Length: 126, dtype: float64"
      ]
     },
     "execution_count": 11,
     "metadata": {},
     "output_type": "execute_result"
    }
   ],
   "source": [
    "tmpf"
   ]
  },
  {
   "cell_type": "markdown",
   "metadata": {},
   "source": [
    "Next, get the basic statistical properties of one of the `Series`."
   ]
  },
  {
   "cell_type": "code",
   "execution_count": 12,
   "metadata": {},
   "outputs": [
    {
     "data": {
      "text/plain": [
       "count    125.00000\n",
       "mean      37.57712\n",
       "std        6.38638\n",
       "min       28.04000\n",
       "25%       33.08000\n",
       "50%       36.32000\n",
       "75%       40.10000\n",
       "max       54.86000\n",
       "Name: temp_2m [degF], dtype: float64"
      ]
     },
     "execution_count": 12,
     "metadata": {},
     "output_type": "execute_result"
    }
   ],
   "source": [
    "tmpf.describe()"
   ]
  },
  {
   "cell_type": "markdown",
   "metadata": {},
   "source": [
    "<div class=\"alert alert-warning\">\n",
    "    <b>Exercise:</b> Convert the 9-m temperature to Fahrenheit, and examine its corresponding statistical properties. What do you notice in terms of the <b>count</b>? Why is there a difference in <b>counts</b> between the 9 m and 2 m arrays?</div>"
   ]
  },
  {
   "cell_type": "code",
   "execution_count": 16,
   "metadata": {},
   "outputs": [],
   "source": [
    "tmpf9 = tmpc9 * 1.8 + 32"
   ]
  },
  {
   "cell_type": "code",
   "execution_count": 17,
   "metadata": {},
   "outputs": [
    {
     "data": {
      "text/plain": [
       "0      44.96\n",
       "1      36.32\n",
       "2      35.06\n",
       "3      51.26\n",
       "4      36.68\n",
       "       ...  \n",
       "121    28.76\n",
       "122    30.20\n",
       "123    38.48\n",
       "124    36.14\n",
       "125    36.68\n",
       "Name: temp_9m [degC], Length: 126, dtype: float64"
      ]
     },
     "execution_count": 17,
     "metadata": {},
     "output_type": "execute_result"
    }
   ],
   "source": [
    "tmpf9"
   ]
  },
  {
   "cell_type": "code",
   "execution_count": 18,
   "metadata": {},
   "outputs": [],
   "source": [
    "tmpf9.name = 'temp_9m [degF]'"
   ]
  },
  {
   "cell_type": "code",
   "execution_count": 20,
   "metadata": {},
   "outputs": [
    {
     "data": {
      "text/plain": [
       "0      44.96\n",
       "1      36.32\n",
       "2      35.06\n",
       "3      51.26\n",
       "4      36.68\n",
       "       ...  \n",
       "121    28.76\n",
       "122    30.20\n",
       "123    38.48\n",
       "124    36.14\n",
       "125    36.68\n",
       "Name: temp_9m [degF], Length: 126, dtype: float64"
      ]
     },
     "execution_count": 20,
     "metadata": {},
     "output_type": "execute_result"
    }
   ],
   "source": [
    "tmpf9"
   ]
  },
  {
   "cell_type": "markdown",
   "metadata": {},
   "source": [
    "### Plot station locations using Matplotlib\n",
    "We use another plotting method for an `Axes` element ... in this case, a [Scatter](https://matplotlib.org/stable/api/_as_gen/matplotlib.axes.Axes.scatter.html) plot. We pass as arguments into this method the x- and y-arrays, corresponding to longitudes and latitudes, and then set five additional attributes."
   ]
  },
  {
   "cell_type": "code",
   "execution_count": 25,
   "metadata": {},
   "outputs": [
    {
     "data": {
      "text/plain": [
       "<matplotlib.collections.PathCollection at 0x7fddf259e0e0>"
      ]
     },
     "execution_count": 25,
     "metadata": {},
     "output_type": "execute_result"
    },
    {
     "data": {
      "image/png": "[encoded data removed]",
      "text/plain": [
       "<Figure size 1200x900 with 1 Axes>"
      ]
     },
     "metadata": {},
     "output_type": "display_data"
    }
   ],
   "source": [
    "fig = plt.figure(figsize=(12,9))\n",
    "ax = fig.add_subplot(1,1,1)\n",
    "ax.set_title ('New York State Mesonet Site Locations')\n",
    "ax.scatter(lons,lats,s=9,c='r',edgecolor='black',alpha=0.75)"
   ]
  },
  {
   "cell_type": "markdown",
   "metadata": {},
   "source": [
    "<div class=\"alert alert-warning\">\n",
    "    <b>Exercise:</b> Examine the link above for how we can call the <code>scatter</code> function. Try changing one or more of the five argument values we used above, and try different arguments as well.</div>"
   ]
  },
  {
   "cell_type": "markdown",
   "metadata": {},
   "source": [
    "## What's Next?\n",
    "\n",
    "We can discern the outline of New York State! But wouldn't it be nice if we could plot cartographic features, such as physical and/or political borders (e.g., coastlines, national/state/provincial boundaries), as well as *georeference* the data we are plotting? We'll cover that next with the **Cartopy** package!"
   ]
  }
 ],
 "metadata": {
  "kernelspec": {
   "display_name": "Python 3 August 2022 Environment",
   "language": "python",
   "name": "aug22"
  },
  "language_info": {
   "codemirror_mode": {
    "name": "ipython",
    "version": 3
   },
   "file_extension": ".py",
   "mimetype": "text/x-python",
   "name": "python",
   "nbconvert_exporter": "python",
   "pygments_lexer": "ipython3",
   "version": "3.10.5"
  }
 },
 "nbformat": 4,
 "nbformat_minor": 4
}
