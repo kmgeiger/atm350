{
 "cells": [
  {
   "cell_type": "markdown",
   "metadata": {},
   "source": [
    "<center><img src=\"https://matplotlib.org/_static/logo2.png\" width=600 alt=\"Matplotlib Logo\"></img></center>"
   ]
  },
  {
   "cell_type": "markdown",
   "metadata": {},
   "source": [
    "# LAB EXERCISE: Plot temperature data from the NYS Mesonet"
   ]
  },
  {
   "cell_type": "markdown",
   "metadata": {},
   "source": [
    "---\n",
    "## Overview\n",
    "You will replicate the workflow in a portion of the 01_MatplotlibIntro notebook, but use recent NYSM temperature data.\n",
    "\n",
    "1. Create a basic line plot.\n",
    "1. Add labels and grid lines to the plot.\n",
    "1. Plot multiple time series of data."
   ]
  },
  {
   "cell_type": "markdown",
   "metadata": {},
   "source": [
    "---"
   ]
  },
  {
   "cell_type": "markdown",
   "metadata": {},
   "source": [
    "## Imports"
   ]
  },
  {
   "cell_type": "markdown",
   "metadata": {},
   "source": [
    "Let's import the matplotlib library's `pyplot` interface; this interface is the simplest way to create new Matplotlib figures. To shorten this long name, we import it as `plt` to keep things short but clear. We also import the `pandas` library, using its standard alias of `pd`. Finally, we import the `datetime` library, which allows for efficient operations on time-based variables and datasets."
   ]
  },
  {
   "cell_type": "markdown",
   "metadata": {},
   "source": [
    "<div class=\"admonition alert alert-warning\">\n",
    "    <p class=\"admonition-title\" style=\"font-weight:bold\">TASK 1:</p>\n",
    "    In the code cell below, add a line that imports the  matplotlib library's `pyplot` interface with its standard alias.\n",
    "</div>"
   ]
  },
  {
   "cell_type": "code",
   "execution_count": 1,
   "metadata": {},
   "outputs": [],
   "source": [
    "import pandas as pd\n",
    "import matplotlib.pyplot as plt\n",
    "from datetime import datetime"
   ]
  },
  {
   "cell_type": "markdown",
   "metadata": {
    "tags": []
   },
   "source": [
    "## Read in the most recent hour's worth of NYSM observations using `pandas`."
   ]
  },
  {
   "cell_type": "code",
   "execution_count": 2,
   "metadata": {
    "tags": []
   },
   "outputs": [],
   "source": [
    "# First define the format and then define the lambda function\n",
    "timeFormat = \"%Y-%m-%d %H:%M:%S UTC\"\n",
    "# This function will iterate over each string in a 1-d array\n",
    "# and use Pandas' implementation of strptime to convert the string into a datetime object.\n",
    "parseTime = lambda x: datetime.strptime(x, timeFormat)\n",
    "df = pd.read_csv('/data1/nysm/latest.csv',parse_dates=['time'], date_parser=parseTime).set_index('time')   "
   ]
  },
  {
   "cell_type": "code",
   "execution_count": 3,
   "metadata": {
    "tags": []
   },
   "outputs": [
    {
     "data": {
      "text/html": [
       "<div>\n",
       "<style scoped>\n",
       "    .dataframe tbody tr th:only-of-type {\n",
       "        vertical-align: middle;\n",
       "    }\n",
       "\n",
       "    .dataframe tbody tr th {\n",
       "        vertical-align: top;\n",
       "    }\n",
       "\n",
       "    .dataframe thead th {\n",
       "        text-align: right;\n",
       "    }\n",
       "</style>\n",
       "<table border=\"1\" class=\"dataframe\">\n",
       "  <thead>\n",
       "    <tr style=\"text-align: right;\">\n",
       "      <th></th>\n",
       "      <th>station</th>\n",
       "      <th>temp_2m [degC]</th>\n",
       "      <th>temp_9m [degC]</th>\n",
       "      <th>relative_humidity [percent]</th>\n",
       "      <th>precip_incremental [mm]</th>\n",
       "      <th>precip_local [mm]</th>\n",
       "      <th>precip_max_intensity [mm/min]</th>\n",
       "      <th>avg_wind_speed_prop [m/s]</th>\n",
       "      <th>max_wind_speed_prop [m/s]</th>\n",
       "      <th>wind_speed_stddev_prop [m/s]</th>\n",
       "      <th>...</th>\n",
       "      <th>snow_depth [cm]</th>\n",
       "      <th>frozen_soil_05cm [bit]</th>\n",
       "      <th>frozen_soil_25cm [bit]</th>\n",
       "      <th>frozen_soil_50cm [bit]</th>\n",
       "      <th>soil_temp_05cm [degC]</th>\n",
       "      <th>soil_temp_25cm [degC]</th>\n",
       "      <th>soil_temp_50cm [degC]</th>\n",
       "      <th>soil_moisture_05cm [m^3/m^3]</th>\n",
       "      <th>soil_moisture_25cm [m^3/m^3]</th>\n",
       "      <th>soil_moisture_50cm [m^3/m^3]</th>\n",
       "    </tr>\n",
       "    <tr>\n",
       "      <th>time</th>\n",
       "      <th></th>\n",
       "      <th></th>\n",
       "      <th></th>\n",
       "      <th></th>\n",
       "      <th></th>\n",
       "      <th></th>\n",
       "      <th></th>\n",
       "      <th></th>\n",
       "      <th></th>\n",
       "      <th></th>\n",
       "      <th></th>\n",
       "      <th></th>\n",
       "      <th></th>\n",
       "      <th></th>\n",
       "      <th></th>\n",
       "      <th></th>\n",
       "      <th></th>\n",
       "      <th></th>\n",
       "      <th></th>\n",
       "      <th></th>\n",
       "      <th></th>\n",
       "    </tr>\n",
       "  </thead>\n",
       "  <tbody>\n",
       "    <tr>\n",
       "      <th>2023-02-21 19:40:00</th>\n",
       "      <td>ADDI</td>\n",
       "      <td>1.2</td>\n",
       "      <td>1.3</td>\n",
       "      <td>87.8</td>\n",
       "      <td>0.0</td>\n",
       "      <td>1.56</td>\n",
       "      <td>0.0</td>\n",
       "      <td>2.9</td>\n",
       "      <td>5.8</td>\n",
       "      <td>1.2</td>\n",
       "      <td>...</td>\n",
       "      <td>-2.0</td>\n",
       "      <td>0.0</td>\n",
       "      <td>0.0</td>\n",
       "      <td>0.0</td>\n",
       "      <td>3.3</td>\n",
       "      <td>3.1</td>\n",
       "      <td>3.4</td>\n",
       "      <td>0.50</td>\n",
       "      <td>0.44</td>\n",
       "      <td>0.43</td>\n",
       "    </tr>\n",
       "    <tr>\n",
       "      <th>2023-02-21 19:45:00</th>\n",
       "      <td>ADDI</td>\n",
       "      <td>1.6</td>\n",
       "      <td>1.7</td>\n",
       "      <td>86.1</td>\n",
       "      <td>0.0</td>\n",
       "      <td>1.56</td>\n",
       "      <td>0.0</td>\n",
       "      <td>2.7</td>\n",
       "      <td>5.8</td>\n",
       "      <td>1.2</td>\n",
       "      <td>...</td>\n",
       "      <td>-2.0</td>\n",
       "      <td>0.0</td>\n",
       "      <td>0.0</td>\n",
       "      <td>0.0</td>\n",
       "      <td>3.3</td>\n",
       "      <td>3.1</td>\n",
       "      <td>3.4</td>\n",
       "      <td>0.50</td>\n",
       "      <td>0.44</td>\n",
       "      <td>0.43</td>\n",
       "    </tr>\n",
       "    <tr>\n",
       "      <th>2023-02-21 19:50:00</th>\n",
       "      <td>ADDI</td>\n",
       "      <td>2.0</td>\n",
       "      <td>2.0</td>\n",
       "      <td>85.5</td>\n",
       "      <td>0.0</td>\n",
       "      <td>1.56</td>\n",
       "      <td>0.0</td>\n",
       "      <td>3.0</td>\n",
       "      <td>5.3</td>\n",
       "      <td>1.3</td>\n",
       "      <td>...</td>\n",
       "      <td>-1.0</td>\n",
       "      <td>0.0</td>\n",
       "      <td>0.0</td>\n",
       "      <td>0.0</td>\n",
       "      <td>3.3</td>\n",
       "      <td>3.1</td>\n",
       "      <td>3.4</td>\n",
       "      <td>0.50</td>\n",
       "      <td>0.44</td>\n",
       "      <td>0.43</td>\n",
       "    </tr>\n",
       "    <tr>\n",
       "      <th>2023-02-21 19:55:00</th>\n",
       "      <td>ADDI</td>\n",
       "      <td>2.3</td>\n",
       "      <td>2.3</td>\n",
       "      <td>85.1</td>\n",
       "      <td>0.0</td>\n",
       "      <td>1.56</td>\n",
       "      <td>0.0</td>\n",
       "      <td>3.3</td>\n",
       "      <td>5.5</td>\n",
       "      <td>1.2</td>\n",
       "      <td>...</td>\n",
       "      <td>-2.0</td>\n",
       "      <td>0.0</td>\n",
       "      <td>0.0</td>\n",
       "      <td>0.0</td>\n",
       "      <td>3.3</td>\n",
       "      <td>3.1</td>\n",
       "      <td>3.4</td>\n",
       "      <td>0.51</td>\n",
       "      <td>0.44</td>\n",
       "      <td>0.43</td>\n",
       "    </tr>\n",
       "    <tr>\n",
       "      <th>2023-02-21 20:00:00</th>\n",
       "      <td>ADDI</td>\n",
       "      <td>2.7</td>\n",
       "      <td>2.6</td>\n",
       "      <td>83.9</td>\n",
       "      <td>0.0</td>\n",
       "      <td>1.56</td>\n",
       "      <td>0.0</td>\n",
       "      <td>3.3</td>\n",
       "      <td>6.5</td>\n",
       "      <td>1.0</td>\n",
       "      <td>...</td>\n",
       "      <td>-1.0</td>\n",
       "      <td>0.0</td>\n",
       "      <td>0.0</td>\n",
       "      <td>0.0</td>\n",
       "      <td>3.3</td>\n",
       "      <td>3.1</td>\n",
       "      <td>3.4</td>\n",
       "      <td>0.51</td>\n",
       "      <td>0.44</td>\n",
       "      <td>0.43</td>\n",
       "    </tr>\n",
       "    <tr>\n",
       "      <th>...</th>\n",
       "      <td>...</td>\n",
       "      <td>...</td>\n",
       "      <td>...</td>\n",
       "      <td>...</td>\n",
       "      <td>...</td>\n",
       "      <td>...</td>\n",
       "      <td>...</td>\n",
       "      <td>...</td>\n",
       "      <td>...</td>\n",
       "      <td>...</td>\n",
       "      <td>...</td>\n",
       "      <td>...</td>\n",
       "      <td>...</td>\n",
       "      <td>...</td>\n",
       "      <td>...</td>\n",
       "      <td>...</td>\n",
       "      <td>...</td>\n",
       "      <td>...</td>\n",
       "      <td>...</td>\n",
       "      <td>...</td>\n",
       "      <td>...</td>\n",
       "    </tr>\n",
       "    <tr>\n",
       "      <th>2023-02-21 20:20:00</th>\n",
       "      <td>YORK</td>\n",
       "      <td>6.1</td>\n",
       "      <td>5.6</td>\n",
       "      <td>49.9</td>\n",
       "      <td>0.0</td>\n",
       "      <td>0.00</td>\n",
       "      <td>0.0</td>\n",
       "      <td>9.9</td>\n",
       "      <td>14.7</td>\n",
       "      <td>2.1</td>\n",
       "      <td>...</td>\n",
       "      <td>0.0</td>\n",
       "      <td>0.0</td>\n",
       "      <td>0.0</td>\n",
       "      <td>0.0</td>\n",
       "      <td>3.9</td>\n",
       "      <td>3.2</td>\n",
       "      <td>3.8</td>\n",
       "      <td>0.24</td>\n",
       "      <td>0.27</td>\n",
       "      <td>0.32</td>\n",
       "    </tr>\n",
       "    <tr>\n",
       "      <th>2023-02-21 20:25:00</th>\n",
       "      <td>YORK</td>\n",
       "      <td>6.1</td>\n",
       "      <td>5.6</td>\n",
       "      <td>50.2</td>\n",
       "      <td>0.0</td>\n",
       "      <td>0.00</td>\n",
       "      <td>0.0</td>\n",
       "      <td>8.7</td>\n",
       "      <td>14.4</td>\n",
       "      <td>2.4</td>\n",
       "      <td>...</td>\n",
       "      <td>0.0</td>\n",
       "      <td>0.0</td>\n",
       "      <td>0.0</td>\n",
       "      <td>0.0</td>\n",
       "      <td>3.9</td>\n",
       "      <td>3.2</td>\n",
       "      <td>3.8</td>\n",
       "      <td>0.24</td>\n",
       "      <td>0.27</td>\n",
       "      <td>0.32</td>\n",
       "    </tr>\n",
       "    <tr>\n",
       "      <th>2023-02-21 20:30:00</th>\n",
       "      <td>YORK</td>\n",
       "      <td>6.1</td>\n",
       "      <td>5.6</td>\n",
       "      <td>50.4</td>\n",
       "      <td>0.0</td>\n",
       "      <td>0.00</td>\n",
       "      <td>0.0</td>\n",
       "      <td>8.7</td>\n",
       "      <td>12.2</td>\n",
       "      <td>1.6</td>\n",
       "      <td>...</td>\n",
       "      <td>0.0</td>\n",
       "      <td>0.0</td>\n",
       "      <td>0.0</td>\n",
       "      <td>0.0</td>\n",
       "      <td>3.9</td>\n",
       "      <td>3.1</td>\n",
       "      <td>3.8</td>\n",
       "      <td>0.24</td>\n",
       "      <td>0.27</td>\n",
       "      <td>0.32</td>\n",
       "    </tr>\n",
       "    <tr>\n",
       "      <th>2023-02-21 20:35:00</th>\n",
       "      <td>YORK</td>\n",
       "      <td>6.2</td>\n",
       "      <td>5.6</td>\n",
       "      <td>50.7</td>\n",
       "      <td>0.0</td>\n",
       "      <td>0.00</td>\n",
       "      <td>0.0</td>\n",
       "      <td>8.4</td>\n",
       "      <td>11.4</td>\n",
       "      <td>1.6</td>\n",
       "      <td>...</td>\n",
       "      <td>0.0</td>\n",
       "      <td>0.0</td>\n",
       "      <td>0.0</td>\n",
       "      <td>0.0</td>\n",
       "      <td>3.9</td>\n",
       "      <td>3.2</td>\n",
       "      <td>3.8</td>\n",
       "      <td>0.24</td>\n",
       "      <td>0.27</td>\n",
       "      <td>0.32</td>\n",
       "    </tr>\n",
       "    <tr>\n",
       "      <th>2023-02-21 20:40:00</th>\n",
       "      <td>YORK</td>\n",
       "      <td>6.1</td>\n",
       "      <td>5.5</td>\n",
       "      <td>49.3</td>\n",
       "      <td>0.0</td>\n",
       "      <td>0.00</td>\n",
       "      <td>0.0</td>\n",
       "      <td>9.1</td>\n",
       "      <td>13.1</td>\n",
       "      <td>2.1</td>\n",
       "      <td>...</td>\n",
       "      <td>0.0</td>\n",
       "      <td>0.0</td>\n",
       "      <td>0.0</td>\n",
       "      <td>0.0</td>\n",
       "      <td>3.9</td>\n",
       "      <td>3.2</td>\n",
       "      <td>3.8</td>\n",
       "      <td>0.25</td>\n",
       "      <td>0.27</td>\n",
       "      <td>0.32</td>\n",
       "    </tr>\n",
       "  </tbody>\n",
       "</table>\n",
       "<p>1638 rows × 29 columns</p>\n",
       "</div>"
      ],
      "text/plain": [
       "                    station  temp_2m [degC]  temp_9m [degC]  \\\n",
       "time                                                          \n",
       "2023-02-21 19:40:00    ADDI             1.2             1.3   \n",
       "2023-02-21 19:45:00    ADDI             1.6             1.7   \n",
       "2023-02-21 19:50:00    ADDI             2.0             2.0   \n",
       "2023-02-21 19:55:00    ADDI             2.3             2.3   \n",
       "2023-02-21 20:00:00    ADDI             2.7             2.6   \n",
       "...                     ...             ...             ...   \n",
       "2023-02-21 20:20:00    YORK             6.1             5.6   \n",
       "2023-02-21 20:25:00    YORK             6.1             5.6   \n",
       "2023-02-21 20:30:00    YORK             6.1             5.6   \n",
       "2023-02-21 20:35:00    YORK             6.2             5.6   \n",
       "2023-02-21 20:40:00    YORK             6.1             5.5   \n",
       "\n",
       "                     relative_humidity [percent]  precip_incremental [mm]  \\\n",
       "time                                                                        \n",
       "2023-02-21 19:40:00                         87.8                      0.0   \n",
       "2023-02-21 19:45:00                         86.1                      0.0   \n",
       "2023-02-21 19:50:00                         85.5                      0.0   \n",
       "2023-02-21 19:55:00                         85.1                      0.0   \n",
       "2023-02-21 20:00:00                         83.9                      0.0   \n",
       "...                                          ...                      ...   \n",
       "2023-02-21 20:20:00                         49.9                      0.0   \n",
       "2023-02-21 20:25:00                         50.2                      0.0   \n",
       "2023-02-21 20:30:00                         50.4                      0.0   \n",
       "2023-02-21 20:35:00                         50.7                      0.0   \n",
       "2023-02-21 20:40:00                         49.3                      0.0   \n",
       "\n",
       "                     precip_local [mm]  precip_max_intensity [mm/min]  \\\n",
       "time                                                                    \n",
       "2023-02-21 19:40:00               1.56                            0.0   \n",
       "2023-02-21 19:45:00               1.56                            0.0   \n",
       "2023-02-21 19:50:00               1.56                            0.0   \n",
       "2023-02-21 19:55:00               1.56                            0.0   \n",
       "2023-02-21 20:00:00               1.56                            0.0   \n",
       "...                                ...                            ...   \n",
       "2023-02-21 20:20:00               0.00                            0.0   \n",
       "2023-02-21 20:25:00               0.00                            0.0   \n",
       "2023-02-21 20:30:00               0.00                            0.0   \n",
       "2023-02-21 20:35:00               0.00                            0.0   \n",
       "2023-02-21 20:40:00               0.00                            0.0   \n",
       "\n",
       "                     avg_wind_speed_prop [m/s]  max_wind_speed_prop [m/s]  \\\n",
       "time                                                                        \n",
       "2023-02-21 19:40:00                        2.9                        5.8   \n",
       "2023-02-21 19:45:00                        2.7                        5.8   \n",
       "2023-02-21 19:50:00                        3.0                        5.3   \n",
       "2023-02-21 19:55:00                        3.3                        5.5   \n",
       "2023-02-21 20:00:00                        3.3                        6.5   \n",
       "...                                        ...                        ...   \n",
       "2023-02-21 20:20:00                        9.9                       14.7   \n",
       "2023-02-21 20:25:00                        8.7                       14.4   \n",
       "2023-02-21 20:30:00                        8.7                       12.2   \n",
       "2023-02-21 20:35:00                        8.4                       11.4   \n",
       "2023-02-21 20:40:00                        9.1                       13.1   \n",
       "\n",
       "                     wind_speed_stddev_prop [m/s]  ...  snow_depth [cm]  \\\n",
       "time                                               ...                    \n",
       "2023-02-21 19:40:00                           1.2  ...             -2.0   \n",
       "2023-02-21 19:45:00                           1.2  ...             -2.0   \n",
       "2023-02-21 19:50:00                           1.3  ...             -1.0   \n",
       "2023-02-21 19:55:00                           1.2  ...             -2.0   \n",
       "2023-02-21 20:00:00                           1.0  ...             -1.0   \n",
       "...                                           ...  ...              ...   \n",
       "2023-02-21 20:20:00                           2.1  ...              0.0   \n",
       "2023-02-21 20:25:00                           2.4  ...              0.0   \n",
       "2023-02-21 20:30:00                           1.6  ...              0.0   \n",
       "2023-02-21 20:35:00                           1.6  ...              0.0   \n",
       "2023-02-21 20:40:00                           2.1  ...              0.0   \n",
       "\n",
       "                     frozen_soil_05cm [bit]  frozen_soil_25cm [bit]  \\\n",
       "time                                                                  \n",
       "2023-02-21 19:40:00                     0.0                     0.0   \n",
       "2023-02-21 19:45:00                     0.0                     0.0   \n",
       "2023-02-21 19:50:00                     0.0                     0.0   \n",
       "2023-02-21 19:55:00                     0.0                     0.0   \n",
       "2023-02-21 20:00:00                     0.0                     0.0   \n",
       "...                                     ...                     ...   \n",
       "2023-02-21 20:20:00                     0.0                     0.0   \n",
       "2023-02-21 20:25:00                     0.0                     0.0   \n",
       "2023-02-21 20:30:00                     0.0                     0.0   \n",
       "2023-02-21 20:35:00                     0.0                     0.0   \n",
       "2023-02-21 20:40:00                     0.0                     0.0   \n",
       "\n",
       "                     frozen_soil_50cm [bit]  soil_temp_05cm [degC]  \\\n",
       "time                                                                 \n",
       "2023-02-21 19:40:00                     0.0                    3.3   \n",
       "2023-02-21 19:45:00                     0.0                    3.3   \n",
       "2023-02-21 19:50:00                     0.0                    3.3   \n",
       "2023-02-21 19:55:00                     0.0                    3.3   \n",
       "2023-02-21 20:00:00                     0.0                    3.3   \n",
       "...                                     ...                    ...   \n",
       "2023-02-21 20:20:00                     0.0                    3.9   \n",
       "2023-02-21 20:25:00                     0.0                    3.9   \n",
       "2023-02-21 20:30:00                     0.0                    3.9   \n",
       "2023-02-21 20:35:00                     0.0                    3.9   \n",
       "2023-02-21 20:40:00                     0.0                    3.9   \n",
       "\n",
       "                     soil_temp_25cm [degC]  soil_temp_50cm [degC]  \\\n",
       "time                                                                \n",
       "2023-02-21 19:40:00                    3.1                    3.4   \n",
       "2023-02-21 19:45:00                    3.1                    3.4   \n",
       "2023-02-21 19:50:00                    3.1                    3.4   \n",
       "2023-02-21 19:55:00                    3.1                    3.4   \n",
       "2023-02-21 20:00:00                    3.1                    3.4   \n",
       "...                                    ...                    ...   \n",
       "2023-02-21 20:20:00                    3.2                    3.8   \n",
       "2023-02-21 20:25:00                    3.2                    3.8   \n",
       "2023-02-21 20:30:00                    3.1                    3.8   \n",
       "2023-02-21 20:35:00                    3.2                    3.8   \n",
       "2023-02-21 20:40:00                    3.2                    3.8   \n",
       "\n",
       "                     soil_moisture_05cm [m^3/m^3]  \\\n",
       "time                                                \n",
       "2023-02-21 19:40:00                          0.50   \n",
       "2023-02-21 19:45:00                          0.50   \n",
       "2023-02-21 19:50:00                          0.50   \n",
       "2023-02-21 19:55:00                          0.51   \n",
       "2023-02-21 20:00:00                          0.51   \n",
       "...                                           ...   \n",
       "2023-02-21 20:20:00                          0.24   \n",
       "2023-02-21 20:25:00                          0.24   \n",
       "2023-02-21 20:30:00                          0.24   \n",
       "2023-02-21 20:35:00                          0.24   \n",
       "2023-02-21 20:40:00                          0.25   \n",
       "\n",
       "                     soil_moisture_25cm [m^3/m^3]  \\\n",
       "time                                                \n",
       "2023-02-21 19:40:00                          0.44   \n",
       "2023-02-21 19:45:00                          0.44   \n",
       "2023-02-21 19:50:00                          0.44   \n",
       "2023-02-21 19:55:00                          0.44   \n",
       "2023-02-21 20:00:00                          0.44   \n",
       "...                                           ...   \n",
       "2023-02-21 20:20:00                          0.27   \n",
       "2023-02-21 20:25:00                          0.27   \n",
       "2023-02-21 20:30:00                          0.27   \n",
       "2023-02-21 20:35:00                          0.27   \n",
       "2023-02-21 20:40:00                          0.27   \n",
       "\n",
       "                     soil_moisture_50cm [m^3/m^3]  \n",
       "time                                               \n",
       "2023-02-21 19:40:00                          0.43  \n",
       "2023-02-21 19:45:00                          0.43  \n",
       "2023-02-21 19:50:00                          0.43  \n",
       "2023-02-21 19:55:00                          0.43  \n",
       "2023-02-21 20:00:00                          0.43  \n",
       "...                                           ...  \n",
       "2023-02-21 20:20:00                          0.32  \n",
       "2023-02-21 20:25:00                          0.32  \n",
       "2023-02-21 20:30:00                          0.32  \n",
       "2023-02-21 20:35:00                          0.32  \n",
       "2023-02-21 20:40:00                          0.32  \n",
       "\n",
       "[1638 rows x 29 columns]"
      ]
     },
     "execution_count": 3,
     "metadata": {},
     "output_type": "execute_result"
    }
   ],
   "source": [
    "df"
   ]
  },
  {
   "cell_type": "markdown",
   "metadata": {},
   "source": [
    "## Plot some temperature data:"
   ]
  },
  {
   "cell_type": "markdown",
   "metadata": {},
   "source": [
    "Instead of \"hard-coding\" lists of variables and hours, Pandas creates \"list-like\" objects, called `Series`. First, let's specify a couple of NYSM sites, and then retrieve time and temperature data from the data file."
   ]
  },
  {
   "cell_type": "code",
   "execution_count": 4,
   "metadata": {
    "tags": []
   },
   "outputs": [],
   "source": [
    "site1 = 'SOUT'\n",
    "site2 = 'STON'"
   ]
  },
  {
   "cell_type": "markdown",
   "metadata": {},
   "source": [
    "Read in 2 meter temperature for these sites."
   ]
  },
  {
   "cell_type": "code",
   "execution_count": 5,
   "metadata": {
    "tags": []
   },
   "outputs": [],
   "source": [
    "site1_t2m = df.query('station == @site1')['temp_2m [degC]']\n",
    "site2_t2m = df.query('station == @site2')['temp_2m [degC]']"
   ]
  },
  {
   "cell_type": "code",
   "execution_count": 6,
   "metadata": {
    "tags": []
   },
   "outputs": [
    {
     "data": {
      "text/plain": [
       "time\n",
       "2023-02-21 19:40:00    4.9\n",
       "2023-02-21 19:45:00    5.3\n",
       "2023-02-21 19:50:00    5.2\n",
       "2023-02-21 19:55:00    5.0\n",
       "2023-02-21 20:00:00    4.9\n",
       "2023-02-21 20:05:00    5.0\n",
       "2023-02-21 20:10:00    4.8\n",
       "2023-02-21 20:15:00    4.9\n",
       "2023-02-21 20:20:00    4.9\n",
       "2023-02-21 20:25:00    4.9\n",
       "2023-02-21 20:30:00    4.9\n",
       "2023-02-21 20:35:00    5.0\n",
       "2023-02-21 20:40:00    4.9\n",
       "Name: temp_2m [degC], dtype: float64"
      ]
     },
     "execution_count": 6,
     "metadata": {},
     "output_type": "execute_result"
    }
   ],
   "source": [
    "site1_t2m"
   ]
  },
  {
   "cell_type": "code",
   "execution_count": 7,
   "metadata": {},
   "outputs": [],
   "source": [
    "times = site1_t2m.index\n",
    "temps = site1_t2m"
   ]
  },
  {
   "cell_type": "code",
   "execution_count": 8,
   "metadata": {
    "tags": []
   },
   "outputs": [
    {
     "data": {
      "text/plain": [
       "DatetimeIndex(['2023-02-21 19:40:00', '2023-02-21 19:45:00',\n",
       "               '2023-02-21 19:50:00', '2023-02-21 19:55:00',\n",
       "               '2023-02-21 20:00:00', '2023-02-21 20:05:00',\n",
       "               '2023-02-21 20:10:00', '2023-02-21 20:15:00',\n",
       "               '2023-02-21 20:20:00', '2023-02-21 20:25:00',\n",
       "               '2023-02-21 20:30:00', '2023-02-21 20:35:00',\n",
       "               '2023-02-21 20:40:00'],\n",
       "              dtype='datetime64[ns]', name='time', freq=None)"
      ]
     },
     "execution_count": 8,
     "metadata": {},
     "output_type": "execute_result"
    }
   ],
   "source": [
    "times"
   ]
  },
  {
   "cell_type": "code",
   "execution_count": 9,
   "metadata": {},
   "outputs": [
    {
     "data": {
      "text/plain": [
       "time\n",
       "2023-02-21 19:40:00    4.9\n",
       "2023-02-21 19:45:00    5.3\n",
       "2023-02-21 19:50:00    5.2\n",
       "2023-02-21 19:55:00    5.0\n",
       "2023-02-21 20:00:00    4.9\n",
       "2023-02-21 20:05:00    5.0\n",
       "2023-02-21 20:10:00    4.8\n",
       "2023-02-21 20:15:00    4.9\n",
       "2023-02-21 20:20:00    4.9\n",
       "2023-02-21 20:25:00    4.9\n",
       "2023-02-21 20:30:00    4.9\n",
       "2023-02-21 20:35:00    5.0\n",
       "2023-02-21 20:40:00    4.9\n",
       "Name: temp_2m [degC], dtype: float64"
      ]
     },
     "execution_count": 9,
     "metadata": {},
     "output_type": "execute_result"
    }
   ],
   "source": [
    "temps"
   ]
  },
  {
   "cell_type": "markdown",
   "metadata": {},
   "source": [
    "<div class=\"admonition alert alert-warning\">\n",
    "    <p class=\"admonition-title\" style=\"font-weight:bold\">TASK 2:</p>\n",
    "    Choose your own two NYSM sites and repeat the execution of the above four code cells.\n",
    "</div>"
   ]
  },
  {
   "cell_type": "markdown",
   "metadata": {},
   "source": [
    "## Line plots\n",
    "\n",
    "Let's create a `Figure` whose dimensions, if printed out on hardcopy, would be 10 inches wide and 6 inches long (assuming a landscape orientation). We then create an `Axes`, consisting of a single subplot, on the `Figure`. After that, we call `plot`, with `hours` as the data along the x-axis (independent values) and `temps` as the data along the y-axis (the dependent values)."
   ]
  },
  {
   "cell_type": "markdown",
   "metadata": {},
   "source": [
    "<div class=\"admonition alert alert-warning\">\n",
    "    <p class=\"admonition-title\" style=\"font-weight:bold\">TASK 3:</p>\n",
    "    Insert a code cell and use Matplotlib to create a time series plot of 2m temperature versus time for the first NYSM site you chose.\n",
    "</div>"
   ]
  },
  {
   "cell_type": "code",
   "execution_count": 10,
   "metadata": {},
   "outputs": [
    {
     "data": {
      "text/plain": [
       "<matplotlib.legend.Legend at 0x7fe0949a6ce0>"
      ]
     },
     "execution_count": 10,
     "metadata": {},
     "output_type": "execute_result"
    },
    {
     "data": {
      "image/png": "[encoded data removed]",
      "text/plain": [
       "<Figure size 1000x600 with 1 Axes>"
      ]
     },
     "metadata": {},
     "output_type": "display_data"
    }
   ],
   "source": [
    "fig = plt.figure(figsize=(10, 6))\n",
    "ax = fig.add_subplot(1, 1, 1)\n",
    "\n",
    "ax.plot(times, temps, color='tab:pink', label='SOUT')\n",
    "\n",
    "ax.grid(True)\n",
    "\n",
    "ax.legend(loc='upper left')"
   ]
  },
  {
   "cell_type": "markdown",
   "metadata": {},
   "source": [
    "### Adding axes labels"
   ]
  },
  {
   "cell_type": "markdown",
   "metadata": {},
   "source": [
    "Next, add x- and y-axis labels to our `Axes` object."
   ]
  },
  {
   "cell_type": "markdown",
   "metadata": {},
   "source": [
    "<div class=\"admonition alert alert-warning\">\n",
    "    <p class=\"admonition-title\" style=\"font-weight:bold\">TASK 4:</p>\n",
    "    Insert a code cell and add x- and y-axis labels to your `Axes` object you just created. Also, add a meaningful title with an appropriately-readable font size.\n",
    "</div>"
   ]
  },
  {
   "cell_type": "code",
   "execution_count": 11,
   "metadata": {},
   "outputs": [
    {
     "data": {
      "text/plain": [
       "<matplotlib.legend.Legend at 0x7fe08c628d90>"
      ]
     },
     "execution_count": 11,
     "metadata": {},
     "output_type": "execute_result"
    },
    {
     "data": {
      "image/png": "[encoded data removed]",
      "text/plain": [
       "<Figure size 1000x600 with 1 Axes>"
      ]
     },
     "metadata": {},
     "output_type": "display_data"
    }
   ],
   "source": [
    "fig = plt.figure(figsize=(10, 6))\n",
    "ax = fig.add_subplot(1, 1, 1)\n",
    "\n",
    "ax.plot(times, temps, color='tab:pink', label='SOUT')\n",
    "\n",
    "ax.set_xlabel('Time')\n",
    "ax.set_ylabel('Temperature ($^\\circ$C)')\n",
    "ax.set_title('Temp vs. time')\n",
    "\n",
    "ax.grid(True)\n",
    "\n",
    "ax.legend(loc='upper left')"
   ]
  },
  {
   "cell_type": "markdown",
   "metadata": {},
   "source": [
    "### Adding labels and a grid"
   ]
  },
  {
   "cell_type": "markdown",
   "metadata": {},
   "source": [
    "Here we call `plot` more than once to plot multiple series of temperature on the same plot; when plotting we pass `label` to `plot` to facilitate automatic creation of legend labels. This is added with the `legend` call. We also add gridlines to the plot using the `grid()` call."
   ]
  },
  {
   "cell_type": "markdown",
   "metadata": {},
   "source": [
    "<div class=\"admonition alert alert-warning\">\n",
    "    <p class=\"admonition-title\" style=\"font-weight:bold\">TASK 5:</p>\n",
    "    Insert a code cell and plot 2 meter temperatures for both NYSM sites on the same plot. Include a legend and gridlines.\n",
    "</div>"
   ]
  },
  {
   "cell_type": "code",
   "execution_count": 12,
   "metadata": {},
   "outputs": [],
   "source": [
    "times2 = site2_t2m.index\n",
    "temps2 = site2_t2m"
   ]
  },
  {
   "cell_type": "code",
   "execution_count": 13,
   "metadata": {},
   "outputs": [
    {
     "data": {
      "text/plain": [
       "DatetimeIndex(['2023-02-21 19:40:00', '2023-02-21 19:45:00',\n",
       "               '2023-02-21 19:50:00', '2023-02-21 19:55:00',\n",
       "               '2023-02-21 20:00:00', '2023-02-21 20:05:00',\n",
       "               '2023-02-21 20:10:00', '2023-02-21 20:15:00',\n",
       "               '2023-02-21 20:20:00', '2023-02-21 20:25:00',\n",
       "               '2023-02-21 20:30:00', '2023-02-21 20:35:00',\n",
       "               '2023-02-21 20:40:00'],\n",
       "              dtype='datetime64[ns]', name='time', freq=None)"
      ]
     },
     "execution_count": 13,
     "metadata": {},
     "output_type": "execute_result"
    }
   ],
   "source": [
    "times2"
   ]
  },
  {
   "cell_type": "code",
   "execution_count": 14,
   "metadata": {},
   "outputs": [
    {
     "data": {
      "text/plain": [
       "<matplotlib.legend.Legend at 0x7fe08c89dcf0>"
      ]
     },
     "execution_count": 14,
     "metadata": {},
     "output_type": "execute_result"
    },
    {
     "data": {
      "image/png": "[encoded data removed]",
      "text/plain": [
       "<Figure size 1000x600 with 1 Axes>"
      ]
     },
     "metadata": {},
     "output_type": "display_data"
    }
   ],
   "source": [
    "fig = plt.figure(figsize=(10, 6))\n",
    "ax = fig.add_subplot(1, 1, 1)\n",
    "\n",
    "\n",
    "ax.plot(times, temps, color='tab:pink', label='SOUT')\n",
    "ax.plot(\n",
    "    times2,\n",
    "    temps2,\n",
    "    color='tab:purple',\n",
    "    label='STON',\n",
    ")\n",
    "\n",
    "\n",
    "ax.set_xlabel('Time')\n",
    "ax.set_ylabel('Temperature ($^\\circ$C)')\n",
    "ax.set_title('Most recent temperatures for SOUT and STON')\n",
    "\n",
    "\n",
    "ax.grid(True)\n",
    "\n",
    "\n",
    "ax.legend(loc='upper left')"
   ]
  },
  {
   "cell_type": "code",
   "execution_count": null,
   "metadata": {},
   "outputs": [],
   "source": []
  }
 ],
 "metadata": {
  "kernelspec": {
   "display_name": "Python 3 August 2022 Environment",
   "language": "python",
   "name": "aug22"
  },
  "language_info": {
   "codemirror_mode": {
    "name": "ipython",
    "version": 3
   },
   "file_extension": ".py",
   "mimetype": "text/x-python",
   "name": "python",
   "nbconvert_exporter": "python",
   "pygments_lexer": "ipython3",
   "version": "3.10.5"
  }
 },
 "nbformat": 4,
 "nbformat_minor": 4
}
